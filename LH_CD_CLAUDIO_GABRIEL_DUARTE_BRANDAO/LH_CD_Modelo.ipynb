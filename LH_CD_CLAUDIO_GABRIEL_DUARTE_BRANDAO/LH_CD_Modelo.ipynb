{
 "cells": [
  {
   "cell_type": "code",
   "execution_count": 1,
   "id": "e5a8860a",
   "metadata": {},
   "outputs": [],
   "source": [
    "import pandas as pd\n",
    "import numpy as np\n",
    "from sklearn.linear_model import Ridge, Lasso\n",
    "from sklearn.feature_selection import RFE\n",
    "from sklearn.preprocessing import StandardScaler\n",
    "from sklearn.linear_model import LinearRegression\n",
    "from sklearn.model_selection import cross_val_predict\n",
    "from sklearn.preprocessing import LabelEncoder\n",
    "from sklearn.metrics import mean_squared_error, r2_score, mean_absolute_error\n",
    "import warnings\n",
    "warnings.filterwarnings('ignore')"
   ]
  },
  {
   "cell_type": "code",
   "execution_count": 2,
   "id": "dc9d018f",
   "metadata": {},
   "outputs": [],
   "source": [
    "# Função para pré-processar os dados\n",
    "def preprocess_data(df):\n",
    "    # Preencher valores ausentes em 'num_fotos' e 'veiculo_alienado'\n",
    "    df['num_fotos'].fillna(0, inplace=True)\n",
    "    df['veiculo_alienado'].fillna(0, inplace=True)\n",
    "\n",
    "    # Converter valores categóricos para binários\n",
    "    df['dono_aceita_troca'] = np.where(df['dono_aceita_troca'] == 'Aceita troca', 1, 0)\n",
    "    df['veiculo_único_dono'] = np.where(df['veiculo_único_dono'] == 'Único dono', 1, 0)\n",
    "    df['revisoes_concessionaria'] = np.where(df['revisoes_concessionaria'] == 'Todas as revisões feitas pela concessionária', 1, 0)\n",
    "    df['ipva_pago'] = np.where(df['ipva_pago'] == 'IPVA pago', 1, 0)\n",
    "    df['veiculo_licenciado'] = np.where(df['veiculo_licenciado'] == 'Licenciado', 1, 0)\n",
    "    df['garantia_de_fábrica'] = np.where(df['garantia_de_fábrica'] == 'Garantia de fábrica', 1, 0)\n",
    "    df['revisoes_dentro_agenda'] = np.where(df['revisoes_dentro_agenda'] == 'Todas as revisões feitas pela agenda do carro', 1, 0)\n",
    "    \n",
    "    # Converter colunas categóricas para o tipo string\n",
    "    categorical_columns = ['marca', 'modelo', 'versao', 'cambio', 'tipo', 'cor', 'tipo_vendedor',\n",
    "                           'cidade_vendedor', 'estado_vendedor', 'anunciante']\n",
    "    df[categorical_columns] = df[categorical_columns].astype(str)\n",
    "    \n",
    "    # Criar as novas variáveis\n",
    "    df['idade_veiculo'] = df['ano_modelo'] - df['ano_de_fabricacao']\n",
    "    df['km_por_ano'] = df['hodometro'] / df['idade_veiculo']\n",
    "    df['e_flex'] = df['versao'].str.contains('flex', case=False, na=False).astype(int)\n",
    "    df['cambio_automatico'] = df['versao'].str.contains('automatico|automático', case=False, na=False).astype(int)\n",
    "    \n",
    "    # Remover colunas 'veiculo_alienado' e 'veiculo_alienado'\n",
    "    df.drop(['veiculo_alienado', 'veiculo_alienado'], axis=1, inplace=True)\n",
    "    df['idade_veiculo'] = df['idade_veiculo'].clip(0, 10)  # Limitar a idade do veículo entre 0 e 10 anos\n",
    "    df['km_por_ano'].replace([np.inf, -np.inf], np.nan, inplace=True)  # Substituir infinito por NaN\n",
    "    df['km_por_ano'].fillna(df['hodometro'], inplace=True)  # Preencher valores NaN com hodômetro (caso tenha havido divisão por zero)\n",
    "    \n",
    "    return df"
   ]
  },
  {
   "cell_type": "code",
   "execution_count": 3,
   "id": "a4ce6b47",
   "metadata": {},
   "outputs": [],
   "source": [
    "# Carregar os dados de treinamento e teste a partir de arquivos Excel\n",
    "df_treino = pd.read_excel(\"C:/Users/cgdb2/Downloads/treino_carros.xls\")\n",
    "df_teste = pd.read_excel(\"C:/Users/cgdb2/Downloads/teste_carros.xls\")"
   ]
  },
  {
   "cell_type": "code",
   "execution_count": 4,
   "id": "32ee30c5",
   "metadata": {},
   "outputs": [],
   "source": [
    "# Pré-processar os dados de treinamento e teste\n",
    "df_treino = preprocess_data(df_treino)\n",
    "df_teste = preprocess_data(df_teste)\n",
    "\n",
    "combined_data = pd.concat([df_treino.drop('preco', axis=1), df_teste], ignore_index=True)"
   ]
  },
  {
   "cell_type": "code",
   "execution_count": 5,
   "id": "5d650586",
   "metadata": {},
   "outputs": [],
   "source": [
    "# Codificar as variáveis categóricas usando One-Hot Encoding com todas as colunas categóricas presentes em ambos os conjuntos\n",
    "combined_encoded = pd.get_dummies(combined_data)"
   ]
  },
  {
   "cell_type": "code",
   "execution_count": 6,
   "id": "816865f3",
   "metadata": {},
   "outputs": [],
   "source": [
    "# Separar novamente os conjuntos de treinamento e teste após a codificação\n",
    "X_train_encoded = combined_encoded.iloc[:len(df_treino)]\n",
    "X_test_encoded = combined_encoded.iloc[len(df_treino):]"
   ]
  },
  {
   "cell_type": "code",
   "execution_count": 7,
   "id": "38013c2c",
   "metadata": {},
   "outputs": [],
   "source": [
    "# 1. Normalização das variáveis contínuas\n",
    "scaler = StandardScaler()\n",
    "numerical_columns = ['num_fotos', 'ano_de_fabricacao', 'ano_modelo', 'hodometro', 'num_portas', 'idade_veiculo', 'km_por_ano']\n",
    "X_train_encoded[numerical_columns] = scaler.fit_transform(X_train_encoded[numerical_columns])\n",
    "X_test_encoded[numerical_columns] = scaler.transform(X_test_encoded[numerical_columns])"
   ]
  },
  {
   "cell_type": "code",
   "execution_count": 8,
   "id": "c149aea0",
   "metadata": {},
   "outputs": [],
   "source": [
    "# 2. Regularização com Ridge\n",
    "ridge_model = Ridge(alpha=1.0)  # Alpha é o hiperparâmetro de regularização, você pode ajustá-lo conforme necessário\n",
    "y_train = df_treino['preco']\n",
    "y_pred_train_ridge = cross_val_predict(ridge_model, X_train_encoded, y_train, cv=5)\n",
    "mse_train_ridge = mean_squared_error(y_train, y_pred_train_ridge)\n",
    "r2_train_ridge = r2_score(y_train, y_pred_train_ridge)\n",
    "mae_train_ridge = mean_absolute_error(y_train, y_pred_train_ridge)"
   ]
  },
  {
   "cell_type": "code",
   "execution_count": 9,
   "id": "e433dfbf",
   "metadata": {},
   "outputs": [
    {
     "name": "stdout",
     "output_type": "stream",
     "text": [
      "Métricas com Ridge:\n",
      "Mean Squared Error (Train): 1855788934.188533\n",
      "R² Score (Train): 0.7217123333903106\n",
      "Mean Absolute Error (Train): 27542.009517370865\n"
     ]
    }
   ],
   "source": [
    "print(\"Métricas com Ridge:\")\n",
    "print(f\"Mean Squared Error (Train): {mse_train_ridge}\")\n",
    "print(f\"R² Score (Train): {r2_train_ridge}\")\n",
    "print(f\"Mean Absolute Error (Train): {mae_train_ridge}\")\n"
   ]
  },
  {
   "cell_type": "code",
   "execution_count": 10,
   "id": "43de5f03",
   "metadata": {},
   "outputs": [],
   "source": [
    "# 3. Seleção de Features com Lasso\n",
    "lasso_model = Lasso(alpha=0.01)  # Alpha é o hiperparâmetro de regularização L1, você pode ajustá-lo conforme necessário\n",
    "y_pred_train_lasso = cross_val_predict(lasso_model, X_train_encoded, y_train, cv=5)\n",
    "mse_train_lasso = mean_squared_error(y_train, y_pred_train_lasso)\n",
    "r2_train_lasso = r2_score(y_train, y_pred_train_lasso)\n",
    "mae_train_lasso = mean_absolute_error(y_train, y_pred_train_lasso)"
   ]
  },
  {
   "cell_type": "code",
   "execution_count": 11,
   "id": "1e47bd52",
   "metadata": {},
   "outputs": [
    {
     "name": "stdout",
     "output_type": "stream",
     "text": [
      "Métricas com Lasso:\n",
      "Mean Squared Error (Train): 1941455437.4976058\n",
      "R² Score (Train): 0.7088660819264192\n",
      "Mean Absolute Error (Train): 27984.35247348117\n"
     ]
    }
   ],
   "source": [
    "print(\"Métricas com Lasso:\")\n",
    "print(f\"Mean Squared Error (Train): {mse_train_lasso}\")\n",
    "print(f\"R² Score (Train): {r2_train_lasso}\")\n",
    "print(f\"Mean Absolute Error (Train): {mae_train_lasso}\")"
   ]
  },
  {
   "cell_type": "code",
   "execution_count": 12,
   "id": "ab77d816",
   "metadata": {},
   "outputs": [],
   "source": [
    "\n",
    "if r2_train_ridge > r2_train_lasso:\n",
    "    selected_model = ridge_model\n",
    "else:\n",
    "    selected_model = lasso_model"
   ]
  },
  {
   "cell_type": "code",
   "execution_count": 13,
   "id": "14df1f64",
   "metadata": {},
   "outputs": [
    {
     "data": {
      "text/plain": [
       "Ridge()"
      ]
     },
     "execution_count": 13,
     "metadata": {},
     "output_type": "execute_result"
    }
   ],
   "source": [
    "# Treinar o modelo selecionado usando todos os dados de treinamento para fins de teste final\n",
    "selected_model.fit(X_train_encoded, y_train)"
   ]
  },
  {
   "cell_type": "code",
   "execution_count": 14,
   "id": "cf625f35",
   "metadata": {},
   "outputs": [],
   "source": [
    "X_test = X_test_encoded  # No need to drop 'id' column as it is not in X_test_encoded\n",
    "y_pred_test = selected_model.predict(X_test)"
   ]
  },
  {
   "cell_type": "code",
   "execution_count": 15,
   "id": "433280ee",
   "metadata": {},
   "outputs": [],
   "source": [
    "# Criar DataFrame com as previsões\n",
    "df_submissao = pd.DataFrame({'id': df_teste['id'], 'preco': y_pred_test})"
   ]
  },
  {
   "cell_type": "code",
   "execution_count": null,
   "id": "fa721bd0",
   "metadata": {},
   "outputs": [],
   "source": [
    "df_submissao.to_csv(\"C:/Users/cgdb2/Desktop/LH_CD_CLAUDIO_GABRIEL_DUARTE_BRANDAO/predicted.csv\", index=False"
   ]
  }
 ],
 "metadata": {
  "kernelspec": {
   "display_name": "Python 3 (ipykernel)",
   "language": "python",
   "name": "python3"
  },
  "language_info": {
   "codemirror_mode": {
    "name": "ipython",
    "version": 3
   },
   "file_extension": ".py",
   "mimetype": "text/x-python",
   "name": "python",
   "nbconvert_exporter": "python",
   "pygments_lexer": "ipython3",
   "version": "3.9.13"
  }
 },
 "nbformat": 4,
 "nbformat_minor": 5
}
